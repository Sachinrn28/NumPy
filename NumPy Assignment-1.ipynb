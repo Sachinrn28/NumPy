{
 "cells": [
  {
   "cell_type": "code",
   "execution_count": 2,
   "id": "0fb1b0e5",
   "metadata": {},
   "outputs": [],
   "source": [
    "import numpy as np"
   ]
  },
  {
   "cell_type": "code",
   "execution_count": 16,
   "id": "bf856e4f",
   "metadata": {},
   "outputs": [
    {
     "data": {
      "text/plain": [
       "array([0., 0., 0., 0., 0., 1., 0., 0., 0., 0.])"
      ]
     },
     "execution_count": 16,
     "metadata": {},
     "output_type": "execute_result"
    }
   ],
   "source": [
    "#1. Create a null vector of size 10 but the fifth value which is 1.\n",
    "null_vector=np.zeros(10)\n",
    "null_vector[5]=1\n",
    "null_vector"
   ]
  },
  {
   "cell_type": "code",
   "execution_count": 22,
   "id": "21431331",
   "metadata": {},
   "outputs": [
    {
     "data": {
      "text/plain": [
       "array([10, 11, 12, 13, 14, 15, 16, 17, 18, 19, 20, 21, 22, 23, 24, 25, 26,\n",
       "       27, 28, 29, 30, 31, 32, 33, 34, 35, 36, 37, 38, 39, 40, 41, 42, 43,\n",
       "       44, 45, 46, 47, 48])"
      ]
     },
     "execution_count": 22,
     "metadata": {},
     "output_type": "execute_result"
    }
   ],
   "source": [
    "#2. Create a vector with values ranging from 10 to 49.\n",
    "vector=np.arange(10,49)\n",
    "vector"
   ]
  },
  {
   "cell_type": "code",
   "execution_count": 28,
   "id": "5ce6cc27",
   "metadata": {},
   "outputs": [
    {
     "data": {
      "text/plain": [
       "array([[0, 1, 2],\n",
       "       [3, 4, 5],\n",
       "       [6, 7, 8]])"
      ]
     },
     "execution_count": 28,
     "metadata": {},
     "output_type": "execute_result"
    }
   ],
   "source": [
    "#3. Create a 3x3 matrix with values ranging from 0 to 8\n",
    "matrix=np.arange(0,9).reshape(3,3)\n",
    "matrix"
   ]
  },
  {
   "cell_type": "code",
   "execution_count": 6,
   "id": "987730f2",
   "metadata": {},
   "outputs": [
    {
     "name": "stdout",
     "output_type": "stream",
     "text": [
      "[0, 1, 4]\n"
     ]
    }
   ],
   "source": [
    "# 4. Find indices of non-zero elements from [1,2,0,0,4,0]\n",
    "vector1=np.array([1,2,0,0,4,0])\n",
    "non_zero=[index for index,element in enumerate(vector1) if element!=0]\n",
    "print(non_zero)"
   ]
  },
  {
   "cell_type": "code",
   "execution_count": 27,
   "id": "12d3733f",
   "metadata": {},
   "outputs": [
    {
     "name": "stdout",
     "output_type": "stream",
     "text": [
      "[[78 74 68 13 67 34 43 23  6 65]\n",
      " [55 79 52 50 29 24  3 91 15  8]\n",
      " [44 18 50 58 67 53 60 99 62 94]\n",
      " [82 15 73 99 69  5 90 66 78 51]\n",
      " [87 47 35 21 34  9 47 22 48 28]\n",
      " [71 49  7 63 63  3 83 10 62 25]\n",
      " [34 87 64 58 89 90 58 14 29 92]\n",
      " [49 25 50 60 42 54  3 35 26 66]\n",
      " [72 35 45 13 14 97  3 25 98 11]\n",
      " [86 93 17 71 69 11 20 60 76 66]]\n",
      "--------------------------------------------------\n",
      "3\n",
      "--------------------------------------------------\n",
      "99\n"
     ]
    }
   ],
   "source": [
    "# Create a 10x10 array with random values and find the minimum and maximum values.\n",
    "ar=np.random.randint(1,101,100).reshape(10,10)\n",
    "print(ar)\n",
    "print('-'*50)\n",
    "print(ar.min())\n",
    "print('-'*50)\n",
    "print(ar.max())"
   ]
  },
  {
   "cell_type": "code",
   "execution_count": 30,
   "id": "647a45cf",
   "metadata": {},
   "outputs": [
    {
     "name": "stdout",
     "output_type": "stream",
     "text": [
      "[ 0  1  2  3  4  5  6  7  8  9 10 11 12 13 14 15 16 17 18 19 20 21 22 23\n",
      " 24 25 26 27 28 29 30]\n",
      "--------------------------------------------------\n"
     ]
    },
    {
     "data": {
      "text/plain": [
       "15.0"
      ]
     },
     "execution_count": 30,
     "metadata": {},
     "output_type": "execute_result"
    }
   ],
   "source": [
    "# 6. Create a random vector of size 30 and find the mean value.\n",
    "vector2=np.arange(0,31)\n",
    "print(vector2)\n",
    "print('-'*50)\n",
    "vector2.mean()"
   ]
  }
 ],
 "metadata": {
  "kernelspec": {
   "display_name": "Python 3 (ipykernel)",
   "language": "python",
   "name": "python3"
  },
  "language_info": {
   "codemirror_mode": {
    "name": "ipython",
    "version": 3
   },
   "file_extension": ".py",
   "mimetype": "text/x-python",
   "name": "python",
   "nbconvert_exporter": "python",
   "pygments_lexer": "ipython3",
   "version": "3.9.12"
  }
 },
 "nbformat": 4,
 "nbformat_minor": 5
}
